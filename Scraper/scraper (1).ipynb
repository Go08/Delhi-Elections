{
  "cells": [
    {
      "cell_type": "code",
      "execution_count": 2,
      "metadata": {
        "id": "HNL-YRomFYZw"
      },
      "outputs": [
        {
          "name": "stdout",
          "output_type": "stream",
          "text": [
            "Collecting git+https://github.com/JustAnotherArchivist/snscrape.git\n",
            "  Cloning https://github.com/JustAnotherArchivist/snscrape.git to c:\\users\\gopal\\appdata\\local\\temp\\pip-req-build-j6spvs2z\n",
            "Requirement already satisfied: requests[socks] in c:\\users\\gopal\\anaconda3\\lib\\site-packages (from snscrape==0.4.3.20220107.dev45+ged3ea94) (2.25.1)\n",
            "Requirement already satisfied: lxml in c:\\users\\gopal\\anaconda3\\lib\\site-packages (from snscrape==0.4.3.20220107.dev45+ged3ea94) (4.6.3)\n",
            "Requirement already satisfied: beautifulsoup4 in c:\\users\\gopal\\anaconda3\\lib\\site-packages (from snscrape==0.4.3.20220107.dev45+ged3ea94) (4.9.3)\n",
            "Requirement already satisfied: filelock in c:\\users\\gopal\\anaconda3\\lib\\site-packages (from snscrape==0.4.3.20220107.dev45+ged3ea94) (3.0.12)\n",
            "Requirement already satisfied: pytz in c:\\users\\gopal\\anaconda3\\lib\\site-packages (from snscrape==0.4.3.20220107.dev45+ged3ea94) (2021.1)\n",
            "Requirement already satisfied: soupsieve>1.2 in c:\\users\\gopal\\anaconda3\\lib\\site-packages (from beautifulsoup4->snscrape==0.4.3.20220107.dev45+ged3ea94) (2.2.1)\n",
            "Requirement already satisfied: chardet<5,>=3.0.2 in c:\\users\\gopal\\anaconda3\\lib\\site-packages (from requests[socks]->snscrape==0.4.3.20220107.dev45+ged3ea94) (3.0.4)\n",
            "Requirement already satisfied: idna<3,>=2.5 in c:\\users\\gopal\\anaconda3\\lib\\site-packages (from requests[socks]->snscrape==0.4.3.20220107.dev45+ged3ea94) (2.10)\n",
            "Requirement already satisfied: urllib3<1.27,>=1.21.1 in c:\\users\\gopal\\anaconda3\\lib\\site-packages (from requests[socks]->snscrape==0.4.3.20220107.dev45+ged3ea94) (1.26.4)\n",
            "Requirement already satisfied: certifi>=2017.4.17 in c:\\users\\gopal\\anaconda3\\lib\\site-packages (from requests[socks]->snscrape==0.4.3.20220107.dev45+ged3ea94) (2020.12.5)\n",
            "Requirement already satisfied: PySocks!=1.5.7,>=1.5.6 in c:\\users\\gopal\\anaconda3\\lib\\site-packages (from requests[socks]->snscrape==0.4.3.20220107.dev45+ged3ea94) (1.7.1)\n"
          ]
        },
        {
          "name": "stderr",
          "output_type": "stream",
          "text": [
            "  Running command git clone -q https://github.com/JustAnotherArchivist/snscrape.git 'C:\\Users\\gopal\\AppData\\Local\\Temp\\pip-req-build-j6spvs2z'\n"
          ]
        }
      ],
      "source": [
        "#!pip3 install git+https://github.com/JustAnotherArchivist/snscrape.git"
      ]
    },
    {
      "cell_type": "code",
      "execution_count": 3,
      "metadata": {
        "id": "4xURiK7eFYZ0"
      },
      "outputs": [],
      "source": [
        "import os\n",
        "import pandas as pd \n",
        "import snscrape.modules.twitter as sntwitter\n",
        "pd.set_option('display.max_columns', None)\n",
        "pd.set_option('display.expand_frame_repr', False)\n",
        "pd.set_option('max_colwidth', None)"
      ]
    },
    {
      "cell_type": "code",
      "execution_count": 4,
      "metadata": {
        "id": "EV985QkyFYZ1"
      },
      "outputs": [
        {
          "name": "stdout",
          "output_type": "stream",
          "text": [
            "2017-03-03 23:55:29+00:00\n",
            "1/9 0\n",
            "2017-02-27 06:22:08+00:00\n",
            "1/9 500\n",
            "2017-02-23 11:49:27+00:00\n",
            "1/9 1000\n",
            "2017-02-19 14:54:00+00:00\n",
            "1/9 1500\n",
            "2017-02-15 13:58:09+00:00\n",
            "1/9 2000\n",
            "2017-02-13 05:36:52+00:00\n",
            "1/9 2500\n",
            "2017-03-03 22:33:25+00:00\n",
            "2/9 0\n",
            "2017-03-03 16:34:41+00:00\n",
            "3/9 0\n",
            "2017-03-03 18:52:49+00:00\n",
            "4/9 0\n",
            "2017-02-14 07:36:13+00:00\n",
            "4/9 500\n",
            "2017-03-03 11:14:18+00:00\n",
            "5/9 0\n",
            "2017-03-03 18:07:41+00:00\n",
            "6/9 0\n",
            "2017-03-02 16:13:04+00:00\n",
            "7/9 0\n",
            "2017-03-01 02:35:26+00:00\n",
            "8/9 0\n",
            "2017-03-01 16:16:58+00:00\n",
            "9/9 0\n"
          ]
        }
      ],
      "source": [
        "tweets=[]\n",
        "keywords = ['Aap punjab', 'aam aadmi party punjab', 'kejriwal punjab','आप पंजाब', 'आम आदमी पार्टी पंजाब', 'केजरीवाल पंजाब','ਆਪ ਪੰਜਾਬ', 'ਆਮ ਆਦਮੀ ਪਾਰਟੀ ਪੰਜਾਬ', 'ਕੇਜਰੀਵਾਲ ਪੰਜਾਬ']\n",
        "queries = []\n",
        "tot = len(keywords)\n",
        "curr = 1\n",
        "for keyword in keywords:\n",
        "    queries.append(keyword + ' since:2017-02-12 until:2017-03-04')\n",
        "df = pd.DataFrame()\n",
        "for query in queries:\n",
        "    # Using TwitterSearchScraper to scrape data and append tweets to list\n",
        "    for i,tweet in enumerate(sntwitter.TwitterSearchScraper(query).get_items()):\n",
        "        if i%500==0:\n",
        "            print(tweet.date)\n",
        "            print(f'{curr}/{tot}', i)\n",
        "        tweets.append([tweet.url, tweet.id, tweet.date, tweet.user.location, tweet.user.username, tweet.user.displayname, tweet.user.verified, tweet.user.followersCount, tweet.user.friendsCount, tweet.lang, tweet.content, tweet.user.description, tweet.likeCount, tweet.retweetCount, tweet.quoteCount, tweet.replyCount, tweet.hashtags])\n",
        "    curr+=1\n",
        "    # Creating a dataframe from the tweets list above\n",
        "    df = df.append(pd.DataFrame(tweets, columns=['url', 'id', 'datetime', 'location', 'username', 'displayname', 'verified', 'followerCount', 'friendsCount', 'language', 'content', 'bio', 'likes', 'retweets', 'quotes', 'comments', 'hashtags']))"
      ]
    },
    {
      "cell_type": "code",
      "execution_count": 5,
      "metadata": {
        "id": "O1bLGshJFYZ2"
      },
      "outputs": [],
      "source": [
        "df.drop_duplicates(subset=['content', 'username', 'datetime'], inplace=True)"
      ]
    },
    {
      "cell_type": "code",
      "execution_count": 6,
      "metadata": {},
      "outputs": [
        {
          "data": {
            "text/plain": [
              "(73258, 17)"
            ]
          },
          "execution_count": 6,
          "metadata": {},
          "output_type": "execute_result"
        }
      ],
      "source": [
        "#AAP\n",
        "df.shape"
      ]
    },
    {
      "cell_type": "code",
      "execution_count": 5,
      "metadata": {
        "id": "U4r-4XN5FYZ2"
      },
      "outputs": [],
      "source": [
        "df.to_csv('pb17_AAP_12feb04Mar.csv')"
      ]
    },
    {
      "cell_type": "code",
      "execution_count": 1,
      "metadata": {},
      "outputs": [
        {
          "ename": "NameError",
          "evalue": "name 'df' is not defined",
          "output_type": "error",
          "traceback": [
            "\u001b[1;31m---------------------------------------------------------------------------\u001b[0m",
            "\u001b[1;31mNameError\u001b[0m                                 Traceback (most recent call last)",
            "\u001b[1;32m<ipython-input-1-633337079cd0>\u001b[0m in \u001b[0;36m<module>\u001b[1;34m\u001b[0m\n\u001b[1;32m----> 1\u001b[1;33m \u001b[0mdf\u001b[0m\u001b[1;33m.\u001b[0m\u001b[0mshape\u001b[0m\u001b[1;33m\u001b[0m\u001b[1;33m\u001b[0m\u001b[0m\n\u001b[0m",
            "\u001b[1;31mNameError\u001b[0m: name 'df' is not defined"
          ]
        }
      ],
      "source": [
        "df.shap"
      ]
    },
    {
      "cell_type": "code",
      "execution_count": null,
      "metadata": {},
      "outputs": [],
      "source": []
    }
  ],
  "metadata": {
    "colab": {
      "name": "scraper.ipynb",
      "provenance": []
    },
    "interpreter": {
      "hash": "21eebfaf70fe1875e566ebbac678fde8f51be167fa2baf4e3fdc9dc6fc7b40f1"
    },
    "kernelspec": {
      "display_name": "Python 3.8.8 ('base')",
      "language": "python",
      "name": "python3"
    },
    "language_info": {
      "codemirror_mode": {
        "name": "ipython",
        "version": 3
      },
      "file_extension": ".py",
      "mimetype": "text/x-python",
      "name": "python",
      "nbconvert_exporter": "python",
      "pygments_lexer": "ipython3",
      "version": "3.8.8"
    },
    "orig_nbformat": 4
  },
  "nbformat": 4,
  "nbformat_minor": 0
}
