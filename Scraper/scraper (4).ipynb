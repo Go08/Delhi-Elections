{
  "cells": [
    {
      "cell_type": "code",
      "execution_count": 1,
      "metadata": {
        "id": "HNL-YRomFYZw"
      },
      "outputs": [],
      "source": [
        "#!pip3 install git+https://github.com/JustAnotherArchivist/snscrape.git"
      ]
    },
    {
      "cell_type": "code",
      "execution_count": 1,
      "metadata": {
        "id": "4xURiK7eFYZ0"
      },
      "outputs": [],
      "source": [
        "import os\n",
        "import pandas as pd \n",
        "import snscrape.modules.twitter as sntwitter\n",
        "pd.set_option('display.max_columns', None)\n",
        "pd.set_option('display.expand_frame_repr', False)\n",
        "pd.set_option('max_colwidth', None)"
      ]
    },
    {
      "cell_type": "code",
      "execution_count": 2,
      "metadata": {
        "id": "EV985QkyFYZ1"
      },
      "outputs": [
        {
          "name": "stdout",
          "output_type": "stream",
          "text": [
            "2017-03-03 21:34:43+00:00\n",
            "1/7 0\n",
            "2017-02-23 07:03:53+00:00\n",
            "1/7 500\n",
            "2017-02-15 03:52:28+00:00\n",
            "1/7 1000\n",
            "2017-02-20 07:14:16+00:00\n",
            "2/7 0\n",
            "2017-03-03 15:38:39+00:00\n",
            "3/7 0\n",
            "2017-03-03 18:00:47+00:00\n",
            "4/7 0\n",
            "2017-02-22 05:38:17+00:00\n",
            "6/7 0\n",
            "2017-02-15 13:25:26+00:00\n",
            "7/7 0\n"
          ]
        }
      ],
      "source": [
        "tweets=[]\n",
        "keywords = ['bjp punjab', 'bhartiya janta party punjab','भाजपा पंजाब','बीजेपी पंजाब', 'भारतीय जनता पार्टी पंजाब','ਭਾਜਪਾ ਪੰਜਾਬ', 'ਭਾਰਤੀ ਜਨਤਾ ਪਾਰਟੀ ਪੰਜਾਬ']\n",
        "queries = []\n",
        "tot = len(keywords)\n",
        "curr = 1\n",
        "for keyword in keywords:\n",
        "    queries.append(keyword + ' since:2017-02-12 until:2017-03-04')\n",
        "df = pd.DataFrame()\n",
        "for query in queries:\n",
        "    # Using TwitterSearchScraper to scrape data and append tweets to list\n",
        "    for i,tweet in enumerate(sntwitter.TwitterSearchScraper(query).get_items()):\n",
        "        if i%500==0:\n",
        "            print(tweet.date)\n",
        "            print(f'{curr}/{tot}', i)\n",
        "        tweets.append([tweet.url, tweet.id, tweet.date, tweet.user.location, tweet.user.username, tweet.user.displayname, tweet.user.verified, tweet.user.followersCount, tweet.user.friendsCount, tweet.lang, tweet.content, tweet.user.description, tweet.likeCount, tweet.retweetCount, tweet.quoteCount, tweet.replyCount, tweet.hashtags])\n",
        "    curr+=1\n",
        "    # Creating a dataframe from the tweets list above\n",
        "    df = df.append(pd.DataFrame(tweets, columns=['url', 'id', 'datetime', 'location', 'username', 'displayname', 'verified', 'followerCount', 'friendsCount', 'language', 'content', 'bio', 'likes', 'retweets', 'quotes', 'comments', 'hashtags']))"
      ]
    },
    {
      "cell_type": "code",
      "execution_count": 4,
      "metadata": {
        "id": "O1bLGshJFYZ2"
      },
      "outputs": [],
      "source": [
        "df.drop_duplicates(subset=['content', 'username', 'datetime'], inplace=True)"
      ]
    },
    {
      "cell_type": "code",
      "execution_count": 5,
      "metadata": {},
      "outputs": [
        {
          "data": {
            "text/plain": [
              "(24846, 17)"
            ]
          },
          "execution_count": 5,
          "metadata": {},
          "output_type": "execute_result"
        }
      ],
      "source": [
        "#BJP\n",
        "df.shape"
      ]
    },
    {
      "cell_type": "code",
      "execution_count": 7,
      "metadata": {
        "id": "U4r-4XN5FYZ2"
      },
      "outputs": [],
      "source": [
        "df.to_csv('pb14_BJP_12feb04Mar.csv')"
      ]
    },
    {
      "cell_type": "code",
      "execution_count": null,
      "metadata": {},
      "outputs": [],
      "source": []
    }
  ],
  "metadata": {
    "colab": {
      "name": "scraper.ipynb",
      "provenance": []
    },
    "interpreter": {
      "hash": "21eebfaf70fe1875e566ebbac678fde8f51be167fa2baf4e3fdc9dc6fc7b40f1"
    },
    "kernelspec": {
      "display_name": "Python 3.8.8 ('base')",
      "language": "python",
      "name": "python3"
    },
    "language_info": {
      "codemirror_mode": {
        "name": "ipython",
        "version": 3
      },
      "file_extension": ".py",
      "mimetype": "text/x-python",
      "name": "python",
      "nbconvert_exporter": "python",
      "pygments_lexer": "ipython3",
      "version": "3.8.8"
    },
    "orig_nbformat": 4
  },
  "nbformat": 4,
  "nbformat_minor": 0
}
