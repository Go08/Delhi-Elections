{
  "cells": [
    {
      "cell_type": "code",
      "execution_count": 2,
      "metadata": {
        "id": "4pEnRkyrIhoJ"
      },
      "outputs": [],
      "source": [
        "import os\n",
        "import pandas as pd \n",
        "import snscrape.modules.twitter as sntwitter\n",
        "pd.set_option('display.max_columns', None)\n",
        "pd.set_option('display.expand_frame_repr', False)\n",
        "pd.set_option('max_colwidth', None)"
      ]
    },
    {
      "cell_type": "code",
      "execution_count": 3,
      "metadata": {
        "id": "mEOExoN1IhoN"
      },
      "outputs": [],
      "source": [
        "df=pd.read_csv('E:\\Capstone\\Scraper_17\\dl19_bjp_18jan8feb.csv', low_memory=False, lineterminator='\\n')  #My data "
      ]
    },
    {
      "cell_type": "code",
      "execution_count": 4,
      "metadata": {
        "id": "UnuSadiQIhoO",
        "outputId": "0322d730-0873-4c54-b9a4-df652ded9044"
      },
      "outputs": [
        {
          "data": {
            "text/plain": [
              "(114732, 18)"
            ]
          },
          "execution_count": 4,
          "metadata": {},
          "output_type": "execute_result"
        }
      ],
      "source": [
        "df.shape"
      ]
    },
    {
      "cell_type": "code",
      "execution_count": 5,
      "metadata": {
        "id": "LsfXtDVaIhoP"
      },
      "outputs": [],
      "source": [
        "sampled_df = df.sample(frac=0.35) #0.4"
      ]
    },
    {
      "cell_type": "code",
      "execution_count": 6,
      "metadata": {},
      "outputs": [
        {
          "data": {
            "text/plain": [
              "(40156, 18)"
            ]
          },
          "execution_count": 6,
          "metadata": {},
          "output_type": "execute_result"
        }
      ],
      "source": [
        "sampled_df.shape"
      ]
    },
    {
      "cell_type": "code",
      "execution_count": null,
      "metadata": {
        "id": "-M-kVpz5IhoP"
      },
      "outputs": [],
      "source": [
        "sampled_df.to_csv('dl19_bjp_18jan8feb.csv')"
      ]
    },
    {
      "cell_type": "code",
      "execution_count": null,
      "metadata": {
        "id": "ksh97L8-IhoQ"
      },
      "outputs": [],
      "source": []
    }
  ],
  "metadata": {
    "colab": {
      "name": "sampler.ipynb",
      "provenance": []
    },
    "interpreter": {
      "hash": "21eebfaf70fe1875e566ebbac678fde8f51be167fa2baf4e3fdc9dc6fc7b40f1"
    },
    "kernelspec": {
      "display_name": "Python 3.8.8 ('base')",
      "language": "python",
      "name": "python3"
    },
    "language_info": {
      "codemirror_mode": {
        "name": "ipython",
        "version": 3
      },
      "file_extension": ".py",
      "mimetype": "text/x-python",
      "name": "python",
      "nbconvert_exporter": "python",
      "pygments_lexer": "ipython3",
      "version": "3.8.8"
    },
    "orig_nbformat": 4
  },
  "nbformat": 4,
  "nbformat_minor": 0
}
