{
  "cells": [
    {
      "cell_type": "code",
      "execution_count": null,
      "metadata": {
        "id": "buJQ6gcPYB1b"
      },
      "outputs": [],
      "source": [
        "#!pip3 install git+https://github.com/JustAnotherArchivist/snscrape.git"
      ]
    },
    {
      "cell_type": "code",
      "execution_count": 1,
      "metadata": {
        "id": "Yu-V0FEtYB1f"
      },
      "outputs": [],
      "source": [
        "import os\n",
        "import pandas as pd \n",
        "import snscrape.modules.twitter as sntwitter\n",
        "pd.set_option('display.max_columns', None)\n",
        "pd.set_option('display.expand_frame_repr', False)\n",
        "pd.set_option('max_colwidth', None)"
      ]
    },
    {
      "cell_type": "code",
      "execution_count": 2,
      "metadata": {
        "id": "MTTWtUUtYB1g"
      },
      "outputs": [
        {
          "name": "stdout",
          "output_type": "stream",
          "text": [
            "2017-03-03 22:30:19+00:00\n",
            "1/3 0\n",
            "2017-02-24 11:19:29+00:00\n",
            "1/3 500\n",
            "2017-02-16 08:38:18+00:00\n",
            "1/3 1000\n",
            "2017-03-03 17:33:42+00:00\n",
            "2/3 0\n",
            "2017-03-03 19:34:24+00:00\n",
            "3/3 0\n",
            "2017-02-13 17:00:31+00:00\n",
            "3/3 500\n"
          ]
        }
      ],
      "source": [
        "tweets=[]\n",
        "keywords = ['Congress delhi','inc delhi','कांग्रेस दिल्ली']\n",
        "queries = []\n",
        "tot = len(keywords)\n",
        "curr = 1\n",
        "for keyword in keywords:\n",
        "    queries.append(keyword + ' since:2017-02-12 until:2017-03-04')\n",
        "df = pd.DataFrame()\n",
        "for query in queries:\n",
        "    # Using TwitterSearchScraper to scrape data and append tweets to list\n",
        "    for i,tweet in enumerate(sntwitter.TwitterSearchScraper(query).get_items()):\n",
        "        if i%500==0:\n",
        "            print(tweet.date)\n",
        "            print(f'{curr}/{tot}', i)\n",
        "        tweets.append([tweet.url, tweet.id, tweet.date, tweet.user.location, tweet.user.username, tweet.user.displayname, tweet.user.verified, tweet.user.followersCount, tweet.user.friendsCount, tweet.lang, tweet.content, tweet.user.description, tweet.likeCount, tweet.retweetCount, tweet.quoteCount, tweet.replyCount, tweet.hashtags])\n",
        "    curr+=1\n",
        "    # Creating a dataframe from the tweets list above\n",
        "    df = df.append(pd.DataFrame(tweets, columns=['url', 'id', 'datetime', 'location', 'username', 'displayname', 'verified', 'followerCount', 'friendsCount', 'language', 'content', 'bio', 'likes', 'retweets', 'quotes', 'comments', 'hashtags']))"
      ]
    },
    {
      "cell_type": "code",
      "execution_count": 3,
      "metadata": {
        "id": "Axa_gvIkYB1h"
      },
      "outputs": [],
      "source": [
        "df.drop_duplicates(subset=['content', 'username', 'datetime'], inplace=True)"
      ]
    },
    {
      "cell_type": "code",
      "execution_count": 6,
      "metadata": {
        "id": "_b-ArqPuYB1i"
      },
      "outputs": [],
      "source": [
        "df.to_csv('dl19_congress_18jan8feb.csv')"
      ]
    },
    {
      "cell_type": "code",
      "execution_count": 4,
      "metadata": {},
      "outputs": [
        {
          "data": {
            "text/plain": [
              "(1948, 17)"
            ]
          },
          "execution_count": 4,
          "metadata": {},
          "output_type": "execute_result"
        }
      ],
      "source": [
        "df.shape"
      ]
    },
    {
      "cell_type": "code",
      "execution_count": null,
      "metadata": {},
      "outputs": [],
      "source": []
    }
  ],
  "metadata": {
    "colab": {
      "name": "scraper.ipynb",
      "provenance": []
    },
    "interpreter": {
      "hash": "21eebfaf70fe1875e566ebbac678fde8f51be167fa2baf4e3fdc9dc6fc7b40f1"
    },
    "kernelspec": {
      "display_name": "Python 3.8.8 ('base')",
      "language": "python",
      "name": "python3"
    },
    "language_info": {
      "codemirror_mode": {
        "name": "ipython",
        "version": 3
      },
      "file_extension": ".py",
      "mimetype": "text/x-python",
      "name": "python",
      "nbconvert_exporter": "python",
      "pygments_lexer": "ipython3",
      "version": "3.8.8"
    },
    "orig_nbformat": 4
  },
  "nbformat": 4,
  "nbformat_minor": 0
}
